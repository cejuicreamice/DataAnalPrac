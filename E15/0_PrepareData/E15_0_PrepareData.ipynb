{
 "cells": [
  {
   "cell_type": "markdown",
   "metadata": {},
   "source": [
    "# Data Analysis Practical Test E15: Data Preparation "
   ]
  },
  {
   "cell_type": "markdown",
   "metadata": {},
   "source": [
    "<div style=\"text-align: right;\"><code> TAESEUNG HAHN </code></div>\n",
    "<div style=\"text-align: right;\"><code> https://github.com/tshahn/DataAnalPrac </code></div>"
   ]
  },
  {
   "cell_type": "markdown",
   "metadata": {},
   "source": [
    "---"
   ]
  },
  {
   "cell_type": "markdown",
   "metadata": {},
   "source": [
    "#### COMMON: Load Package"
   ]
  },
  {
   "cell_type": "code",
   "execution_count": 1,
   "metadata": {},
   "outputs": [
    {
     "name": "stderr",
     "output_type": "stream",
     "text": [
      "── \u001b[1mAttaching packages\u001b[22m ─────────────────────────────────────── tidyverse 1.3.0 ──\n",
      "\n",
      "\u001b[32m✔\u001b[39m \u001b[34mggplot2\u001b[39m 3.3.0     \u001b[32m✔\u001b[39m \u001b[34mpurrr  \u001b[39m 0.3.4\n",
      "\u001b[32m✔\u001b[39m \u001b[34mtibble \u001b[39m 3.0.1     \u001b[32m✔\u001b[39m \u001b[34mdplyr  \u001b[39m 0.8.5\n",
      "\u001b[32m✔\u001b[39m \u001b[34mtidyr  \u001b[39m 1.0.2     \u001b[32m✔\u001b[39m \u001b[34mstringr\u001b[39m 1.4.0\n",
      "\u001b[32m✔\u001b[39m \u001b[34mreadr  \u001b[39m 1.3.1     \u001b[32m✔\u001b[39m \u001b[34mforcats\u001b[39m 0.5.0\n",
      "\n",
      "── \u001b[1mConflicts\u001b[22m ────────────────────────────────────────── tidyverse_conflicts() ──\n",
      "\u001b[31m✖\u001b[39m \u001b[34mdplyr\u001b[39m::\u001b[32mfilter()\u001b[39m masks \u001b[34mstats\u001b[39m::filter()\n",
      "\u001b[31m✖\u001b[39m \u001b[34mdplyr\u001b[39m::\u001b[32mlag()\u001b[39m    masks \u001b[34mstats\u001b[39m::lag()\n",
      "\n",
      "Loading required package: lattice\n",
      "\n",
      "\n",
      "Attaching package: ‘caret’\n",
      "\n",
      "\n",
      "The following object is masked from ‘package:purrr’:\n",
      "\n",
      "    lift\n",
      "\n",
      "\n",
      "\n",
      "Attaching package: ‘lubridate’\n",
      "\n",
      "\n",
      "The following objects are masked from ‘package:dplyr’:\n",
      "\n",
      "    intersect, setdiff, union\n",
      "\n",
      "\n",
      "The following objects are masked from ‘package:base’:\n",
      "\n",
      "    date, intersect, setdiff, union\n",
      "\n",
      "\n"
     ]
    }
   ],
   "source": [
    "pkgs = c(\"tidyverse\", \"caret\", \"stringr\", \"lubridate\")\n",
    "for (pkg in pkgs) if (!pkg %in% installed.packages()[,1]) install.packages(pkg)\n",
    "invisible(lapply(pkgs, library, character.only=TRUE))"
   ]
  },
  {
   "cell_type": "markdown",
   "metadata": {},
   "source": [
    "---"
   ]
  },
  {
   "cell_type": "markdown",
   "metadata": {},
   "source": [
    "## Question No. 1"
   ]
  },
  {
   "cell_type": "markdown",
   "metadata": {},
   "source": [
    "제공 데이터 파일: E15Q1_data_raw.csv  \n",
    " - 1-24번 컬럼: Analog Data\n",
    " - 25번 컬럼: 제품코드 (Binary)\n",
    " - 26번 컬럼: 불량코드 (Integer with range 1 to 7)"
   ]
  },
  {
   "cell_type": "markdown",
   "metadata": {},
   "source": [
    "#### 1. Download Data"
   ]
  },
  {
   "cell_type": "code",
   "execution_count": 2,
   "metadata": {},
   "outputs": [],
   "source": [
    "colname_url = \"http://archive.ics.uci.edu/ml/machine-learning-databases/00198/Faults27x7_var\"\n",
    "data_url = \"http://archive.ics.uci.edu/ml/machine-learning-databases/00198/Faults.NNA\"\n",
    "\n",
    "colname_path = \"./data/colname_org\"\n",
    "data_path = \"./data/data_org\""
   ]
  },
  {
   "cell_type": "code",
   "execution_count": 3,
   "metadata": {},
   "outputs": [],
   "source": [
    "download.file(url=colname_url, destfile=colname_path, method=\"wget\")\n",
    "download.file(url=data_url, destfile=data_path, method=\"wget\")"
   ]
  },
  {
   "cell_type": "markdown",
   "metadata": {},
   "source": [
    "#### 2. Load Original Data"
   ]
  },
  {
   "cell_type": "code",
   "execution_count": 4,
   "metadata": {},
   "outputs": [
    {
     "name": "stderr",
     "output_type": "stream",
     "text": [
      "Parsed with column specification:\n",
      "cols(\n",
      "  X1 = \u001b[31mcol_character()\u001b[39m\n",
      ")\n",
      "\n",
      "Parsed with column specification:\n",
      "cols(\n",
      "  .default = col_double()\n",
      ")\n",
      "\n",
      "See spec(...) for full column specifications.\n",
      "\n"
     ]
    }
   ],
   "source": [
    "cname = read_delim(colname_path, delim=\"\\n\", col_names=FALSE) %>% pull\n",
    "data_org = read_delim(data_path, delim=\"\\t\", col_names=cname)"
   ]
  },
  {
   "cell_type": "markdown",
   "metadata": {},
   "source": [
    "#### 3. MERGE FAULT COLUMNS INTO ONE"
   ]
  },
  {
   "cell_type": "code",
   "execution_count": 5,
   "metadata": {},
   "outputs": [],
   "source": [
    "fault_cols = data_org %>% select(28:34)\n",
    "type_cols = data_org %>% select(TypeOfSteel_A300, TypeOfSteel_A400)\n",
    "analog_cols = data_org %>% select(-c(28:34), -TypeOfSteel_A300, -TypeOfSteel_A400)"
   ]
  },
  {
   "cell_type": "code",
   "execution_count": 6,
   "metadata": {},
   "outputs": [
    {
     "data": {
      "text/html": [
       "<table>\n",
       "<caption>A tibble: 6 × 25</caption>\n",
       "<thead>\n",
       "\t<tr><th scope=col>X_Minimum</th><th scope=col>X_Maximum</th><th scope=col>Y_Minimum</th><th scope=col>Y_Maximum</th><th scope=col>Pixels_Areas</th><th scope=col>X_Perimeter</th><th scope=col>Y_Perimeter</th><th scope=col>Sum_of_Luminosity</th><th scope=col>Minimum_of_Luminosity</th><th scope=col>Maximum_of_Luminosity</th><th scope=col>⋯</th><th scope=col>Outside_X_Index</th><th scope=col>Edges_X_Index</th><th scope=col>Edges_Y_Index</th><th scope=col>Outside_Global_Index</th><th scope=col>LogOfAreas</th><th scope=col>Log_X_Index</th><th scope=col>Log_Y_Index</th><th scope=col>Orientation_Index</th><th scope=col>Luminosity_Index</th><th scope=col>SigmoidOfAreas</th></tr>\n",
       "\t<tr><th scope=col>&lt;dbl&gt;</th><th scope=col>&lt;dbl&gt;</th><th scope=col>&lt;dbl&gt;</th><th scope=col>&lt;dbl&gt;</th><th scope=col>&lt;dbl&gt;</th><th scope=col>&lt;dbl&gt;</th><th scope=col>&lt;dbl&gt;</th><th scope=col>&lt;dbl&gt;</th><th scope=col>&lt;dbl&gt;</th><th scope=col>&lt;dbl&gt;</th><th scope=col>⋯</th><th scope=col>&lt;dbl&gt;</th><th scope=col>&lt;dbl&gt;</th><th scope=col>&lt;dbl&gt;</th><th scope=col>&lt;dbl&gt;</th><th scope=col>&lt;dbl&gt;</th><th scope=col>&lt;dbl&gt;</th><th scope=col>&lt;dbl&gt;</th><th scope=col>&lt;dbl&gt;</th><th scope=col>&lt;dbl&gt;</th><th scope=col>&lt;dbl&gt;</th></tr>\n",
       "</thead>\n",
       "<tbody>\n",
       "\t<tr><td>  42</td><td>  50</td><td> 270900</td><td> 270944</td><td> 267</td><td>17</td><td> 44</td><td> 24220</td><td>76</td><td>108</td><td>⋯</td><td>0.0047</td><td>0.4706</td><td>1.0000</td><td>1</td><td>2.4265</td><td>0.9031</td><td>1.6435</td><td>0.8182</td><td>-0.2913</td><td>0.5822</td></tr>\n",
       "\t<tr><td> 645</td><td> 651</td><td>2538079</td><td>2538108</td><td> 108</td><td>10</td><td> 30</td><td> 11397</td><td>84</td><td>123</td><td>⋯</td><td>0.0036</td><td>0.6000</td><td>0.9667</td><td>1</td><td>2.0334</td><td>0.7782</td><td>1.4624</td><td>0.7931</td><td>-0.1756</td><td>0.2984</td></tr>\n",
       "\t<tr><td> 829</td><td> 835</td><td>1553913</td><td>1553931</td><td>  71</td><td> 8</td><td> 19</td><td>  7972</td><td>99</td><td>125</td><td>⋯</td><td>0.0037</td><td>0.7500</td><td>0.9474</td><td>1</td><td>1.8513</td><td>0.7782</td><td>1.2553</td><td>0.6667</td><td>-0.1228</td><td>0.2150</td></tr>\n",
       "\t<tr><td> 853</td><td> 860</td><td> 369370</td><td> 369415</td><td> 176</td><td>13</td><td> 45</td><td> 18996</td><td>99</td><td>126</td><td>⋯</td><td>0.0052</td><td>0.5385</td><td>1.0000</td><td>1</td><td>2.2455</td><td>0.8451</td><td>1.6532</td><td>0.8444</td><td>-0.1568</td><td>0.5212</td></tr>\n",
       "\t<tr><td>1289</td><td>1306</td><td> 498078</td><td> 498335</td><td>2409</td><td>60</td><td>260</td><td>246930</td><td>37</td><td>126</td><td>⋯</td><td>0.0126</td><td>0.2833</td><td>0.9885</td><td>1</td><td>3.3818</td><td>1.2305</td><td>2.4099</td><td>0.9338</td><td>-0.1992</td><td>1.0000</td></tr>\n",
       "\t<tr><td> 430</td><td> 441</td><td> 100250</td><td> 100337</td><td> 630</td><td>20</td><td> 87</td><td> 62357</td><td>64</td><td>127</td><td>⋯</td><td>0.0079</td><td>0.5500</td><td>1.0000</td><td>1</td><td>2.7993</td><td>1.0414</td><td>1.9395</td><td>0.8736</td><td>-0.2267</td><td>0.9874</td></tr>\n",
       "</tbody>\n",
       "</table>\n"
      ],
      "text/latex": [
       "A tibble: 6 × 25\n",
       "\\begin{tabular}{lllllllllllllllllllll}\n",
       " X\\_Minimum & X\\_Maximum & Y\\_Minimum & Y\\_Maximum & Pixels\\_Areas & X\\_Perimeter & Y\\_Perimeter & Sum\\_of\\_Luminosity & Minimum\\_of\\_Luminosity & Maximum\\_of\\_Luminosity & ⋯ & Outside\\_X\\_Index & Edges\\_X\\_Index & Edges\\_Y\\_Index & Outside\\_Global\\_Index & LogOfAreas & Log\\_X\\_Index & Log\\_Y\\_Index & Orientation\\_Index & Luminosity\\_Index & SigmoidOfAreas\\\\\n",
       " <dbl> & <dbl> & <dbl> & <dbl> & <dbl> & <dbl> & <dbl> & <dbl> & <dbl> & <dbl> & ⋯ & <dbl> & <dbl> & <dbl> & <dbl> & <dbl> & <dbl> & <dbl> & <dbl> & <dbl> & <dbl>\\\\\n",
       "\\hline\n",
       "\t   42 &   50 &  270900 &  270944 &  267 & 17 &  44 &  24220 & 76 & 108 & ⋯ & 0.0047 & 0.4706 & 1.0000 & 1 & 2.4265 & 0.9031 & 1.6435 & 0.8182 & -0.2913 & 0.5822\\\\\n",
       "\t  645 &  651 & 2538079 & 2538108 &  108 & 10 &  30 &  11397 & 84 & 123 & ⋯ & 0.0036 & 0.6000 & 0.9667 & 1 & 2.0334 & 0.7782 & 1.4624 & 0.7931 & -0.1756 & 0.2984\\\\\n",
       "\t  829 &  835 & 1553913 & 1553931 &   71 &  8 &  19 &   7972 & 99 & 125 & ⋯ & 0.0037 & 0.7500 & 0.9474 & 1 & 1.8513 & 0.7782 & 1.2553 & 0.6667 & -0.1228 & 0.2150\\\\\n",
       "\t  853 &  860 &  369370 &  369415 &  176 & 13 &  45 &  18996 & 99 & 126 & ⋯ & 0.0052 & 0.5385 & 1.0000 & 1 & 2.2455 & 0.8451 & 1.6532 & 0.8444 & -0.1568 & 0.5212\\\\\n",
       "\t 1289 & 1306 &  498078 &  498335 & 2409 & 60 & 260 & 246930 & 37 & 126 & ⋯ & 0.0126 & 0.2833 & 0.9885 & 1 & 3.3818 & 1.2305 & 2.4099 & 0.9338 & -0.1992 & 1.0000\\\\\n",
       "\t  430 &  441 &  100250 &  100337 &  630 & 20 &  87 &  62357 & 64 & 127 & ⋯ & 0.0079 & 0.5500 & 1.0000 & 1 & 2.7993 & 1.0414 & 1.9395 & 0.8736 & -0.2267 & 0.9874\\\\\n",
       "\\end{tabular}\n"
      ],
      "text/markdown": [
       "\n",
       "A tibble: 6 × 25\n",
       "\n",
       "| X_Minimum &lt;dbl&gt; | X_Maximum &lt;dbl&gt; | Y_Minimum &lt;dbl&gt; | Y_Maximum &lt;dbl&gt; | Pixels_Areas &lt;dbl&gt; | X_Perimeter &lt;dbl&gt; | Y_Perimeter &lt;dbl&gt; | Sum_of_Luminosity &lt;dbl&gt; | Minimum_of_Luminosity &lt;dbl&gt; | Maximum_of_Luminosity &lt;dbl&gt; | ⋯ ⋯ | Outside_X_Index &lt;dbl&gt; | Edges_X_Index &lt;dbl&gt; | Edges_Y_Index &lt;dbl&gt; | Outside_Global_Index &lt;dbl&gt; | LogOfAreas &lt;dbl&gt; | Log_X_Index &lt;dbl&gt; | Log_Y_Index &lt;dbl&gt; | Orientation_Index &lt;dbl&gt; | Luminosity_Index &lt;dbl&gt; | SigmoidOfAreas &lt;dbl&gt; |\n",
       "|---|---|---|---|---|---|---|---|---|---|---|---|---|---|---|---|---|---|---|---|---|\n",
       "|   42 |   50 |  270900 |  270944 |  267 | 17 |  44 |  24220 | 76 | 108 | ⋯ | 0.0047 | 0.4706 | 1.0000 | 1 | 2.4265 | 0.9031 | 1.6435 | 0.8182 | -0.2913 | 0.5822 |\n",
       "|  645 |  651 | 2538079 | 2538108 |  108 | 10 |  30 |  11397 | 84 | 123 | ⋯ | 0.0036 | 0.6000 | 0.9667 | 1 | 2.0334 | 0.7782 | 1.4624 | 0.7931 | -0.1756 | 0.2984 |\n",
       "|  829 |  835 | 1553913 | 1553931 |   71 |  8 |  19 |   7972 | 99 | 125 | ⋯ | 0.0037 | 0.7500 | 0.9474 | 1 | 1.8513 | 0.7782 | 1.2553 | 0.6667 | -0.1228 | 0.2150 |\n",
       "|  853 |  860 |  369370 |  369415 |  176 | 13 |  45 |  18996 | 99 | 126 | ⋯ | 0.0052 | 0.5385 | 1.0000 | 1 | 2.2455 | 0.8451 | 1.6532 | 0.8444 | -0.1568 | 0.5212 |\n",
       "| 1289 | 1306 |  498078 |  498335 | 2409 | 60 | 260 | 246930 | 37 | 126 | ⋯ | 0.0126 | 0.2833 | 0.9885 | 1 | 3.3818 | 1.2305 | 2.4099 | 0.9338 | -0.1992 | 1.0000 |\n",
       "|  430 |  441 |  100250 |  100337 |  630 | 20 |  87 |  62357 | 64 | 127 | ⋯ | 0.0079 | 0.5500 | 1.0000 | 1 | 2.7993 | 1.0414 | 1.9395 | 0.8736 | -0.2267 | 0.9874 |\n",
       "\n"
      ],
      "text/plain": [
       "  X_Minimum X_Maximum Y_Minimum Y_Maximum Pixels_Areas X_Perimeter Y_Perimeter\n",
       "1   42        50       270900    270944    267         17           44        \n",
       "2  645       651      2538079   2538108    108         10           30        \n",
       "3  829       835      1553913   1553931     71          8           19        \n",
       "4  853       860       369370    369415    176         13           45        \n",
       "5 1289      1306       498078    498335   2409         60          260        \n",
       "6  430       441       100250    100337    630         20           87        \n",
       "  Sum_of_Luminosity Minimum_of_Luminosity Maximum_of_Luminosity ⋯\n",
       "1  24220            76                    108                   ⋯\n",
       "2  11397            84                    123                   ⋯\n",
       "3   7972            99                    125                   ⋯\n",
       "4  18996            99                    126                   ⋯\n",
       "5 246930            37                    126                   ⋯\n",
       "6  62357            64                    127                   ⋯\n",
       "  Outside_X_Index Edges_X_Index Edges_Y_Index Outside_Global_Index LogOfAreas\n",
       "1 0.0047          0.4706        1.0000        1                    2.4265    \n",
       "2 0.0036          0.6000        0.9667        1                    2.0334    \n",
       "3 0.0037          0.7500        0.9474        1                    1.8513    \n",
       "4 0.0052          0.5385        1.0000        1                    2.2455    \n",
       "5 0.0126          0.2833        0.9885        1                    3.3818    \n",
       "6 0.0079          0.5500        1.0000        1                    2.7993    \n",
       "  Log_X_Index Log_Y_Index Orientation_Index Luminosity_Index SigmoidOfAreas\n",
       "1 0.9031      1.6435      0.8182            -0.2913          0.5822        \n",
       "2 0.7782      1.4624      0.7931            -0.1756          0.2984        \n",
       "3 0.7782      1.2553      0.6667            -0.1228          0.2150        \n",
       "4 0.8451      1.6532      0.8444            -0.1568          0.5212        \n",
       "5 1.2305      2.4099      0.9338            -0.1992          1.0000        \n",
       "6 1.0414      1.9395      0.8736            -0.2267          0.9874        "
      ]
     },
     "metadata": {},
     "output_type": "display_data"
    }
   ],
   "source": [
    "head(analog_cols)"
   ]
  },
  {
   "cell_type": "markdown",
   "metadata": {},
   "source": [
    "##### WAY 1 (if you are familiar with long/wide form transformation)"
   ]
  },
  {
   "cell_type": "code",
   "execution_count": 7,
   "metadata": {},
   "outputs": [],
   "source": [
    "fault = fault_cols %>% \n",
    "    pivot_longer(cols=1:7, names_to=\"Fault\", values_to=\"YN\") %>% \n",
    "    filter(YN==1) %>% \n",
    "    pull(Fault) %>% as.factor\n",
    "\n",
    "type = type_cols %>% \n",
    "    pivot_longer(cols=1:2, names_to=\"Type\", values_to=\"YN\") %>% \n",
    "    filter(YN==1) %>% \n",
    "    pull(Type) %>% as.factor"
   ]
  },
  {
   "cell_type": "markdown",
   "metadata": {},
   "source": [
    "##### WAY 2 (if you are familiar with linear algebra)"
   ]
  },
  {
   "cell_type": "code",
   "execution_count": 8,
   "metadata": {},
   "outputs": [],
   "source": [
    "fault = as.matrix(fault_cols) %*% as.matrix(seq_along(fault_cols))\n",
    "type = as.matrix(type_cols) %*% as.matrix(seq_along(type_cols))"
   ]
  },
  {
   "cell_type": "markdown",
   "metadata": {},
   "source": [
    "##### WAY 3 (if you are familiar with column/row-wise operation)"
   ]
  },
  {
   "cell_type": "code",
   "execution_count": 9,
   "metadata": {},
   "outputs": [],
   "source": [
    "fault = as.factor(apply(fault_cols, 1, which.max))\n",
    "type = as.factor(apply(type_cols, 1, which.max))"
   ]
  },
  {
   "cell_type": "markdown",
   "metadata": {},
   "source": [
    "##### WAY 4: Gather (substitute for pivot_longer())"
   ]
  },
  {
   "cell_type": "markdown",
   "metadata": {},
   "source": [
    "#### 4. Bind and Export Data"
   ]
  },
  {
   "cell_type": "code",
   "execution_count": 10,
   "metadata": {},
   "outputs": [],
   "source": [
    "data_raw = cbind(analog_cols, SteelType=type, Fault=fault)"
   ]
  },
  {
   "cell_type": "code",
   "execution_count": 11,
   "metadata": {},
   "outputs": [],
   "source": [
    "write_delim(data_raw, path=\"./data/E15Q1_data_raw.csv\", delim=\",\")"
   ]
  },
  {
   "cell_type": "markdown",
   "metadata": {},
   "source": [
    "---"
   ]
  },
  {
   "cell_type": "markdown",
   "metadata": {},
   "source": [
    "## Question No. 2"
   ]
  },
  {
   "cell_type": "markdown",
   "metadata": {},
   "source": [
    "- 공장의 전력 사용량에 대한 데이터 (총 3개 파일)\n",
    "- 각 데이터 파일에 대한 설명: \n",
    "  1. E15Q21_usage.csv\n",
    "    - 900초마다 기록된 900초 단위 전력 총 사용량\n",
    "    - 1번 컬럼: Datetime (UnixTimestamp)\n",
    "    - 2번 컬럼: Usage\n",
    "  2. E15Q22_weather.csv\n",
    "    - 일자별 평균 기온\n",
    "    - 1번 컬럼: Date (YYYY-MM-DD)\n",
    "    - 2번 컬럼: Daily Average Temperature\n",
    "  3. E15Q23_usage_history.tsv\n",
    "    - 1분에 2번씩 기록된 각 용도별 전력 누적사용량\n",
    "    - 1번 컬럼: Time (HH:MM)\n",
    "    - 2번 컬럼: Weather Class (A/B/C/D)\n",
    "    - 3-7번 컬럼: 각 용도(A/B/C/D/E)별 전력 누적 사용량"
   ]
  },
  {
   "cell_type": "markdown",
   "metadata": {},
   "source": [
    "#### 1. Generate Time Standard"
   ]
  },
  {
   "cell_type": "code",
   "execution_count": 12,
   "metadata": {},
   "outputs": [],
   "source": [
    "hh = str_pad(00:23, 2, pad='0')\n",
    "mm = str_pad(00:59, 2, pad='0')\n",
    "ss = c(\"00\", \"30\")\n",
    "time_day = expand.grid(hh=hh, mm=mm, ss=ss) %>%\n",
    "    arrange(hh, mm, ss) %>%\n",
    "    mutate(time = paste(hh, mm, ss, sep=\":\")) %>%\n",
    "    select(time)"
   ]
  },
  {
   "cell_type": "code",
   "execution_count": 13,
   "metadata": {},
   "outputs": [],
   "source": [
    "n_day = 70\n",
    "time = data.frame(replicate(n_day, time_day)) %>%\n",
    "    pivot_longer(cols=seq(n_day)) %>%\n",
    "    transmute(day = rep(seq(n_day), NROW(.)/n_day),\n",
    "              time = value) %>% \n",
    "    arrange(day, time) %>% \n",
    "    mutate(timestamp_idx = rep(1:6720, each=30),\n",
    "           timestamp = 1504224000 + (timestamp_idx-1)*900,\n",
    "           dt = as.Date(as.POSIXct(timestamp, origin=\"1970-01-01\"))) %>% \n",
    "    arrange(day, timestamp_idx, time)"
   ]
  },
  {
   "cell_type": "code",
   "execution_count": 14,
   "metadata": {},
   "outputs": [
    {
     "data": {
      "text/html": [
       "<table>\n",
       "<caption>A tibble: 6 × 5</caption>\n",
       "<thead>\n",
       "\t<tr><th scope=col>day</th><th scope=col>time</th><th scope=col>timestamp_idx</th><th scope=col>timestamp</th><th scope=col>dt</th></tr>\n",
       "\t<tr><th scope=col>&lt;int&gt;</th><th scope=col>&lt;fct&gt;</th><th scope=col>&lt;int&gt;</th><th scope=col>&lt;dbl&gt;</th><th scope=col>&lt;date&gt;</th></tr>\n",
       "</thead>\n",
       "<tbody>\n",
       "\t<tr><td>1</td><td>00:00:00</td><td>1</td><td>1504224000</td><td>2017-09-01</td></tr>\n",
       "\t<tr><td>1</td><td>00:00:30</td><td>1</td><td>1504224000</td><td>2017-09-01</td></tr>\n",
       "\t<tr><td>1</td><td>00:01:00</td><td>1</td><td>1504224000</td><td>2017-09-01</td></tr>\n",
       "\t<tr><td>1</td><td>00:01:30</td><td>1</td><td>1504224000</td><td>2017-09-01</td></tr>\n",
       "\t<tr><td>1</td><td>00:02:00</td><td>1</td><td>1504224000</td><td>2017-09-01</td></tr>\n",
       "\t<tr><td>1</td><td>00:02:30</td><td>1</td><td>1504224000</td><td>2017-09-01</td></tr>\n",
       "</tbody>\n",
       "</table>\n"
      ],
      "text/latex": [
       "A tibble: 6 × 5\n",
       "\\begin{tabular}{lllll}\n",
       " day & time & timestamp\\_idx & timestamp & dt\\\\\n",
       " <int> & <fct> & <int> & <dbl> & <date>\\\\\n",
       "\\hline\n",
       "\t 1 & 00:00:00 & 1 & 1504224000 & 2017-09-01\\\\\n",
       "\t 1 & 00:00:30 & 1 & 1504224000 & 2017-09-01\\\\\n",
       "\t 1 & 00:01:00 & 1 & 1504224000 & 2017-09-01\\\\\n",
       "\t 1 & 00:01:30 & 1 & 1504224000 & 2017-09-01\\\\\n",
       "\t 1 & 00:02:00 & 1 & 1504224000 & 2017-09-01\\\\\n",
       "\t 1 & 00:02:30 & 1 & 1504224000 & 2017-09-01\\\\\n",
       "\\end{tabular}\n"
      ],
      "text/markdown": [
       "\n",
       "A tibble: 6 × 5\n",
       "\n",
       "| day &lt;int&gt; | time &lt;fct&gt; | timestamp_idx &lt;int&gt; | timestamp &lt;dbl&gt; | dt &lt;date&gt; |\n",
       "|---|---|---|---|---|\n",
       "| 1 | 00:00:00 | 1 | 1504224000 | 2017-09-01 |\n",
       "| 1 | 00:00:30 | 1 | 1504224000 | 2017-09-01 |\n",
       "| 1 | 00:01:00 | 1 | 1504224000 | 2017-09-01 |\n",
       "| 1 | 00:01:30 | 1 | 1504224000 | 2017-09-01 |\n",
       "| 1 | 00:02:00 | 1 | 1504224000 | 2017-09-01 |\n",
       "| 1 | 00:02:30 | 1 | 1504224000 | 2017-09-01 |\n",
       "\n"
      ],
      "text/plain": [
       "  day time     timestamp_idx timestamp  dt        \n",
       "1 1   00:00:00 1             1504224000 2017-09-01\n",
       "2 1   00:00:30 1             1504224000 2017-09-01\n",
       "3 1   00:01:00 1             1504224000 2017-09-01\n",
       "4 1   00:01:30 1             1504224000 2017-09-01\n",
       "5 1   00:02:00 1             1504224000 2017-09-01\n",
       "6 1   00:02:30 1             1504224000 2017-09-01"
      ]
     },
     "metadata": {},
     "output_type": "display_data"
    }
   ],
   "source": [
    "head(time)"
   ]
  },
  {
   "cell_type": "markdown",
   "metadata": {},
   "source": [
    "#### 2. Generate Weather Class"
   ]
  },
  {
   "cell_type": "code",
   "execution_count": 15,
   "metadata": {},
   "outputs": [],
   "source": [
    "wclass = sample(c('A', 'B' ,'C', 'D'), NROW(time), c(0.2, 0.3, 0.4, 0.1), replace=TRUE)"
   ]
  },
  {
   "cell_type": "markdown",
   "metadata": {},
   "source": [
    "#### 3. Generate Usage by Time and Purpose"
   ]
  },
  {
   "cell_type": "code",
   "execution_count": 16,
   "metadata": {},
   "outputs": [],
   "source": [
    "set.seed(23)\n",
    "usage_init = replicate(5, abs(rnorm(NROW(time), 0, 3))) %>% \n",
    "    as.data.frame(make.names=FALSE) %>% \n",
    "    transmute_all(~ifelse(. > 0.5, ., 0))\n",
    "colnames(usage_init) = LETTERS[1:5]\n",
    "timely_usage_init = cbind(time, wclass, usage_init)"
   ]
  },
  {
   "cell_type": "markdown",
   "metadata": {},
   "source": [
    "#### 4. ADJUSTMENT 1: Adjust Usage by Day of the Week"
   ]
  },
  {
   "cell_type": "code",
   "execution_count": 17,
   "metadata": {},
   "outputs": [],
   "source": [
    "set.seed(53)\n",
    "timely_usage_adj1 = timely_usage_init %>%\n",
    "    mutate_at(vars(C, E), list(~ifelse(day%%7 == 2, .+1+abs(rnorm(1, 0, 0.1)), .))) %>%  # Saturday Usage Adjustment\n",
    "    mutate_at(vars(B, E), list(~ifelse(day%%7 == 3, .+2+abs(rnorm(1, 0, 0.1)), .)))      # Sunday Usage Adjustment"
   ]
  },
  {
   "cell_type": "code",
   "execution_count": 18,
   "metadata": {},
   "outputs": [
    {
     "data": {
      "text/html": [
       "<table>\n",
       "<caption>A data.frame: 6 × 11</caption>\n",
       "<thead>\n",
       "\t<tr><th></th><th scope=col>day</th><th scope=col>time</th><th scope=col>timestamp_idx</th><th scope=col>timestamp</th><th scope=col>dt</th><th scope=col>wclass</th><th scope=col>A</th><th scope=col>B</th><th scope=col>C</th><th scope=col>D</th><th scope=col>E</th></tr>\n",
       "\t<tr><th></th><th scope=col>&lt;int&gt;</th><th scope=col>&lt;fct&gt;</th><th scope=col>&lt;int&gt;</th><th scope=col>&lt;dbl&gt;</th><th scope=col>&lt;date&gt;</th><th scope=col>&lt;fct&gt;</th><th scope=col>&lt;dbl&gt;</th><th scope=col>&lt;dbl&gt;</th><th scope=col>&lt;dbl&gt;</th><th scope=col>&lt;dbl&gt;</th><th scope=col>&lt;dbl&gt;</th></tr>\n",
       "</thead>\n",
       "<tbody>\n",
       "\t<tr><th scope=row>1</th><td>1</td><td>00:00:00</td><td>1</td><td>1504224000</td><td>2017-09-01</td><td>C</td><td>0.579637</td><td>3.878765</td><td>3.3663863</td><td>2.580289</td><td>0.7968933</td></tr>\n",
       "\t<tr><th scope=row>2</th><td>1</td><td>00:00:30</td><td>1</td><td>1504224000</td><td>2017-09-01</td><td>C</td><td>1.304046</td><td>5.810091</td><td>0.8243956</td><td>0.000000</td><td>0.0000000</td></tr>\n",
       "\t<tr><th scope=row>3</th><td>1</td><td>00:01:00</td><td>1</td><td>1504224000</td><td>2017-09-01</td><td>C</td><td>2.739801</td><td>0.000000</td><td>4.1396554</td><td>1.272027</td><td>0.0000000</td></tr>\n",
       "\t<tr><th scope=row>4</th><td>1</td><td>00:01:30</td><td>1</td><td>1504224000</td><td>2017-09-01</td><td>B</td><td>5.380164</td><td>1.589156</td><td>0.9473668</td><td>3.444810</td><td>4.3132982</td></tr>\n",
       "\t<tr><th scope=row>5</th><td>1</td><td>00:02:00</td><td>1</td><td>1504224000</td><td>2017-09-01</td><td>B</td><td>2.989815</td><td>3.045425</td><td>2.4339320</td><td>1.229422</td><td>6.3342472</td></tr>\n",
       "\t<tr><th scope=row>6</th><td>1</td><td>00:02:30</td><td>1</td><td>1504224000</td><td>2017-09-01</td><td>B</td><td>3.322471</td><td>1.747114</td><td>2.4407186</td><td>0.000000</td><td>0.0000000</td></tr>\n",
       "</tbody>\n",
       "</table>\n"
      ],
      "text/latex": [
       "A data.frame: 6 × 11\n",
       "\\begin{tabular}{r|lllllllllll}\n",
       "  & day & time & timestamp\\_idx & timestamp & dt & wclass & A & B & C & D & E\\\\\n",
       "  & <int> & <fct> & <int> & <dbl> & <date> & <fct> & <dbl> & <dbl> & <dbl> & <dbl> & <dbl>\\\\\n",
       "\\hline\n",
       "\t1 & 1 & 00:00:00 & 1 & 1504224000 & 2017-09-01 & C & 0.579637 & 3.878765 & 3.3663863 & 2.580289 & 0.7968933\\\\\n",
       "\t2 & 1 & 00:00:30 & 1 & 1504224000 & 2017-09-01 & C & 1.304046 & 5.810091 & 0.8243956 & 0.000000 & 0.0000000\\\\\n",
       "\t3 & 1 & 00:01:00 & 1 & 1504224000 & 2017-09-01 & C & 2.739801 & 0.000000 & 4.1396554 & 1.272027 & 0.0000000\\\\\n",
       "\t4 & 1 & 00:01:30 & 1 & 1504224000 & 2017-09-01 & B & 5.380164 & 1.589156 & 0.9473668 & 3.444810 & 4.3132982\\\\\n",
       "\t5 & 1 & 00:02:00 & 1 & 1504224000 & 2017-09-01 & B & 2.989815 & 3.045425 & 2.4339320 & 1.229422 & 6.3342472\\\\\n",
       "\t6 & 1 & 00:02:30 & 1 & 1504224000 & 2017-09-01 & B & 3.322471 & 1.747114 & 2.4407186 & 0.000000 & 0.0000000\\\\\n",
       "\\end{tabular}\n"
      ],
      "text/markdown": [
       "\n",
       "A data.frame: 6 × 11\n",
       "\n",
       "| <!--/--> | day &lt;int&gt; | time &lt;fct&gt; | timestamp_idx &lt;int&gt; | timestamp &lt;dbl&gt; | dt &lt;date&gt; | wclass &lt;fct&gt; | A &lt;dbl&gt; | B &lt;dbl&gt; | C &lt;dbl&gt; | D &lt;dbl&gt; | E &lt;dbl&gt; |\n",
       "|---|---|---|---|---|---|---|---|---|---|---|---|\n",
       "| 1 | 1 | 00:00:00 | 1 | 1504224000 | 2017-09-01 | C | 0.579637 | 3.878765 | 3.3663863 | 2.580289 | 0.7968933 |\n",
       "| 2 | 1 | 00:00:30 | 1 | 1504224000 | 2017-09-01 | C | 1.304046 | 5.810091 | 0.8243956 | 0.000000 | 0.0000000 |\n",
       "| 3 | 1 | 00:01:00 | 1 | 1504224000 | 2017-09-01 | C | 2.739801 | 0.000000 | 4.1396554 | 1.272027 | 0.0000000 |\n",
       "| 4 | 1 | 00:01:30 | 1 | 1504224000 | 2017-09-01 | B | 5.380164 | 1.589156 | 0.9473668 | 3.444810 | 4.3132982 |\n",
       "| 5 | 1 | 00:02:00 | 1 | 1504224000 | 2017-09-01 | B | 2.989815 | 3.045425 | 2.4339320 | 1.229422 | 6.3342472 |\n",
       "| 6 | 1 | 00:02:30 | 1 | 1504224000 | 2017-09-01 | B | 3.322471 | 1.747114 | 2.4407186 | 0.000000 | 0.0000000 |\n",
       "\n"
      ],
      "text/plain": [
       "  day time     timestamp_idx timestamp  dt         wclass A        B       \n",
       "1 1   00:00:00 1             1504224000 2017-09-01 C      0.579637 3.878765\n",
       "2 1   00:00:30 1             1504224000 2017-09-01 C      1.304046 5.810091\n",
       "3 1   00:01:00 1             1504224000 2017-09-01 C      2.739801 0.000000\n",
       "4 1   00:01:30 1             1504224000 2017-09-01 B      5.380164 1.589156\n",
       "5 1   00:02:00 1             1504224000 2017-09-01 B      2.989815 3.045425\n",
       "6 1   00:02:30 1             1504224000 2017-09-01 B      3.322471 1.747114\n",
       "  C         D        E        \n",
       "1 3.3663863 2.580289 0.7968933\n",
       "2 0.8243956 0.000000 0.0000000\n",
       "3 4.1396554 1.272027 0.0000000\n",
       "4 0.9473668 3.444810 4.3132982\n",
       "5 2.4339320 1.229422 6.3342472\n",
       "6 2.4407186 0.000000 0.0000000"
      ]
     },
     "metadata": {},
     "output_type": "display_data"
    }
   ],
   "source": [
    "timely_usage_adj1 %>% head"
   ]
  },
  {
   "cell_type": "markdown",
   "metadata": {},
   "source": [
    "#### 5. Generate Average Daily Temperature and the Temperature of a 30-second Unit."
   ]
  },
  {
   "cell_type": "code",
   "execution_count": 19,
   "metadata": {},
   "outputs": [],
   "source": [
    "set.seed(311)\n",
    "\n",
    "weather = time %>%\n",
    "    select(dt) %>%\n",
    "    unique %>%\n",
    "    mutate(avg_temp = rnorm(NROW(.), 23, 5))\n",
    "\n",
    "timely_usage_adj1_tmpr = timely_usage_adj1 %>%\n",
    "    left_join(weather, by=\"dt\") %>%\n",
    "    mutate(temp = avg_temp + rnorm(NROW(.), 0, 1))"
   ]
  },
  {
   "cell_type": "code",
   "execution_count": 20,
   "metadata": {},
   "outputs": [
    {
     "data": {
      "text/html": [
       "<table>\n",
       "<caption>A data.frame: 6 × 13</caption>\n",
       "<thead>\n",
       "\t<tr><th></th><th scope=col>day</th><th scope=col>time</th><th scope=col>timestamp_idx</th><th scope=col>timestamp</th><th scope=col>dt</th><th scope=col>wclass</th><th scope=col>A</th><th scope=col>B</th><th scope=col>C</th><th scope=col>D</th><th scope=col>E</th><th scope=col>avg_temp</th><th scope=col>temp</th></tr>\n",
       "\t<tr><th></th><th scope=col>&lt;int&gt;</th><th scope=col>&lt;fct&gt;</th><th scope=col>&lt;int&gt;</th><th scope=col>&lt;dbl&gt;</th><th scope=col>&lt;date&gt;</th><th scope=col>&lt;fct&gt;</th><th scope=col>&lt;dbl&gt;</th><th scope=col>&lt;dbl&gt;</th><th scope=col>&lt;dbl&gt;</th><th scope=col>&lt;dbl&gt;</th><th scope=col>&lt;dbl&gt;</th><th scope=col>&lt;dbl&gt;</th><th scope=col>&lt;dbl&gt;</th></tr>\n",
       "</thead>\n",
       "<tbody>\n",
       "\t<tr><th scope=row>1</th><td>1</td><td>00:00:00</td><td>1</td><td>1504224000</td><td>2017-09-01</td><td>C</td><td>0.579637</td><td>3.878765</td><td>3.3663863</td><td>2.580289</td><td>0.7968933</td><td>26.74755</td><td>25.79651</td></tr>\n",
       "\t<tr><th scope=row>2</th><td>1</td><td>00:00:30</td><td>1</td><td>1504224000</td><td>2017-09-01</td><td>C</td><td>1.304046</td><td>5.810091</td><td>0.8243956</td><td>0.000000</td><td>0.0000000</td><td>26.74755</td><td>27.37505</td></tr>\n",
       "\t<tr><th scope=row>3</th><td>1</td><td>00:01:00</td><td>1</td><td>1504224000</td><td>2017-09-01</td><td>C</td><td>2.739801</td><td>0.000000</td><td>4.1396554</td><td>1.272027</td><td>0.0000000</td><td>26.74755</td><td>26.19446</td></tr>\n",
       "\t<tr><th scope=row>4</th><td>1</td><td>00:01:30</td><td>1</td><td>1504224000</td><td>2017-09-01</td><td>B</td><td>5.380164</td><td>1.589156</td><td>0.9473668</td><td>3.444810</td><td>4.3132982</td><td>26.74755</td><td>27.07863</td></tr>\n",
       "\t<tr><th scope=row>5</th><td>1</td><td>00:02:00</td><td>1</td><td>1504224000</td><td>2017-09-01</td><td>B</td><td>2.989815</td><td>3.045425</td><td>2.4339320</td><td>1.229422</td><td>6.3342472</td><td>26.74755</td><td>27.14825</td></tr>\n",
       "\t<tr><th scope=row>6</th><td>1</td><td>00:02:30</td><td>1</td><td>1504224000</td><td>2017-09-01</td><td>B</td><td>3.322471</td><td>1.747114</td><td>2.4407186</td><td>0.000000</td><td>0.0000000</td><td>26.74755</td><td>27.01240</td></tr>\n",
       "</tbody>\n",
       "</table>\n"
      ],
      "text/latex": [
       "A data.frame: 6 × 13\n",
       "\\begin{tabular}{r|lllllllllllll}\n",
       "  & day & time & timestamp\\_idx & timestamp & dt & wclass & A & B & C & D & E & avg\\_temp & temp\\\\\n",
       "  & <int> & <fct> & <int> & <dbl> & <date> & <fct> & <dbl> & <dbl> & <dbl> & <dbl> & <dbl> & <dbl> & <dbl>\\\\\n",
       "\\hline\n",
       "\t1 & 1 & 00:00:00 & 1 & 1504224000 & 2017-09-01 & C & 0.579637 & 3.878765 & 3.3663863 & 2.580289 & 0.7968933 & 26.74755 & 25.79651\\\\\n",
       "\t2 & 1 & 00:00:30 & 1 & 1504224000 & 2017-09-01 & C & 1.304046 & 5.810091 & 0.8243956 & 0.000000 & 0.0000000 & 26.74755 & 27.37505\\\\\n",
       "\t3 & 1 & 00:01:00 & 1 & 1504224000 & 2017-09-01 & C & 2.739801 & 0.000000 & 4.1396554 & 1.272027 & 0.0000000 & 26.74755 & 26.19446\\\\\n",
       "\t4 & 1 & 00:01:30 & 1 & 1504224000 & 2017-09-01 & B & 5.380164 & 1.589156 & 0.9473668 & 3.444810 & 4.3132982 & 26.74755 & 27.07863\\\\\n",
       "\t5 & 1 & 00:02:00 & 1 & 1504224000 & 2017-09-01 & B & 2.989815 & 3.045425 & 2.4339320 & 1.229422 & 6.3342472 & 26.74755 & 27.14825\\\\\n",
       "\t6 & 1 & 00:02:30 & 1 & 1504224000 & 2017-09-01 & B & 3.322471 & 1.747114 & 2.4407186 & 0.000000 & 0.0000000 & 26.74755 & 27.01240\\\\\n",
       "\\end{tabular}\n"
      ],
      "text/markdown": [
       "\n",
       "A data.frame: 6 × 13\n",
       "\n",
       "| <!--/--> | day &lt;int&gt; | time &lt;fct&gt; | timestamp_idx &lt;int&gt; | timestamp &lt;dbl&gt; | dt &lt;date&gt; | wclass &lt;fct&gt; | A &lt;dbl&gt; | B &lt;dbl&gt; | C &lt;dbl&gt; | D &lt;dbl&gt; | E &lt;dbl&gt; | avg_temp &lt;dbl&gt; | temp &lt;dbl&gt; |\n",
       "|---|---|---|---|---|---|---|---|---|---|---|---|---|---|\n",
       "| 1 | 1 | 00:00:00 | 1 | 1504224000 | 2017-09-01 | C | 0.579637 | 3.878765 | 3.3663863 | 2.580289 | 0.7968933 | 26.74755 | 25.79651 |\n",
       "| 2 | 1 | 00:00:30 | 1 | 1504224000 | 2017-09-01 | C | 1.304046 | 5.810091 | 0.8243956 | 0.000000 | 0.0000000 | 26.74755 | 27.37505 |\n",
       "| 3 | 1 | 00:01:00 | 1 | 1504224000 | 2017-09-01 | C | 2.739801 | 0.000000 | 4.1396554 | 1.272027 | 0.0000000 | 26.74755 | 26.19446 |\n",
       "| 4 | 1 | 00:01:30 | 1 | 1504224000 | 2017-09-01 | B | 5.380164 | 1.589156 | 0.9473668 | 3.444810 | 4.3132982 | 26.74755 | 27.07863 |\n",
       "| 5 | 1 | 00:02:00 | 1 | 1504224000 | 2017-09-01 | B | 2.989815 | 3.045425 | 2.4339320 | 1.229422 | 6.3342472 | 26.74755 | 27.14825 |\n",
       "| 6 | 1 | 00:02:30 | 1 | 1504224000 | 2017-09-01 | B | 3.322471 | 1.747114 | 2.4407186 | 0.000000 | 0.0000000 | 26.74755 | 27.01240 |\n",
       "\n"
      ],
      "text/plain": [
       "  day time     timestamp_idx timestamp  dt         wclass A        B       \n",
       "1 1   00:00:00 1             1504224000 2017-09-01 C      0.579637 3.878765\n",
       "2 1   00:00:30 1             1504224000 2017-09-01 C      1.304046 5.810091\n",
       "3 1   00:01:00 1             1504224000 2017-09-01 C      2.739801 0.000000\n",
       "4 1   00:01:30 1             1504224000 2017-09-01 B      5.380164 1.589156\n",
       "5 1   00:02:00 1             1504224000 2017-09-01 B      2.989815 3.045425\n",
       "6 1   00:02:30 1             1504224000 2017-09-01 B      3.322471 1.747114\n",
       "  C         D        E         avg_temp temp    \n",
       "1 3.3663863 2.580289 0.7968933 26.74755 25.79651\n",
       "2 0.8243956 0.000000 0.0000000 26.74755 27.37505\n",
       "3 4.1396554 1.272027 0.0000000 26.74755 26.19446\n",
       "4 0.9473668 3.444810 4.3132982 26.74755 27.07863\n",
       "5 2.4339320 1.229422 6.3342472 26.74755 27.14825\n",
       "6 2.4407186 0.000000 0.0000000 26.74755 27.01240"
      ]
     },
     "metadata": {},
     "output_type": "display_data"
    }
   ],
   "source": [
    "head(timely_usage_adj1_tmpr)"
   ]
  },
  {
   "cell_type": "markdown",
   "metadata": {},
   "source": [
    "#### 6. ADJUSTMENT 2: Adjust Usage by Temperature and Purpose"
   ]
  },
  {
   "cell_type": "code",
   "execution_count": 21,
   "metadata": {},
   "outputs": [],
   "source": [
    "set.seed(145)\n",
    "timely_usage_adj2 = timely_usage_adj1_tmpr %>%\n",
    "    mutate(A = abs(0.1*temp - A))    # A is dependent on temperature"
   ]
  },
  {
   "cell_type": "markdown",
   "metadata": {},
   "source": [
    "#### 7. Create Join Key for 15-minute unit"
   ]
  },
  {
   "cell_type": "code",
   "execution_count": 22,
   "metadata": {},
   "outputs": [],
   "source": [
    "key15 = timely_usage_adj2 %>%\n",
    "    group_by(timestamp_idx) %>%\n",
    "    summarise(usage15 = sum(A, B, C, D, E))"
   ]
  },
  {
   "cell_type": "markdown",
   "metadata": {},
   "source": [
    "---"
   ]
  },
  {
   "cell_type": "markdown",
   "metadata": {},
   "source": [
    "#### 8. Create Final Tibbles for the Test"
   ]
  },
  {
   "cell_type": "code",
   "execution_count": 23,
   "metadata": {},
   "outputs": [],
   "source": [
    "timely_usage = timely_usage_adj2 %>% left_join(key15, by=\"timestamp_idx\")"
   ]
  },
  {
   "cell_type": "code",
   "execution_count": 24,
   "metadata": {},
   "outputs": [],
   "source": [
    "usage_history = timely_usage_adj2 %>%\n",
    "    mutate_at(vars(LETTERS[1:5]), ~cumsum(.)) %>% \n",
    "    mutate(time=substr(time, 1, 5)) %>% \n",
    "    select(time, wclass, LETTERS[1:5])"
   ]
  },
  {
   "cell_type": "code",
   "execution_count": 25,
   "metadata": {},
   "outputs": [],
   "source": [
    "usage = timely_usage_adj2 %>%\n",
    "    group_by(day, timestamp_idx, timestamp) %>%\n",
    "    summarise(amount = sum(A, B, C, D, E)) %>% \n",
    "    as_tibble %>% \n",
    "    select(timestamp, amount)"
   ]
  },
  {
   "cell_type": "markdown",
   "metadata": {},
   "source": [
    "---"
   ]
  },
  {
   "cell_type": "markdown",
   "metadata": {},
   "source": [
    "#### 9. Check Adjustment"
   ]
  },
  {
   "cell_type": "code",
   "execution_count": 26,
   "metadata": {},
   "outputs": [
    {
     "data": {
      "text/html": [
       "<table>\n",
       "<caption>A tibble: 7 × 2</caption>\n",
       "<thead>\n",
       "\t<tr><th scope=col>wday</th><th scope=col>wdaysum</th></tr>\n",
       "\t<tr><th scope=col>&lt;chr&gt;</th><th scope=col>&lt;dbl&gt;</th></tr>\n",
       "</thead>\n",
       "<tbody>\n",
       "\t<tr><td>Friday   </td><td>316274.2</td></tr>\n",
       "\t<tr><td>Monday   </td><td>314674.6</td></tr>\n",
       "\t<tr><td>Saturday </td><td>378722.4</td></tr>\n",
       "\t<tr><td>Sunday   </td><td>435757.8</td></tr>\n",
       "\t<tr><td>Thursday </td><td>315223.6</td></tr>\n",
       "\t<tr><td>Tuesday  </td><td>313612.4</td></tr>\n",
       "\t<tr><td>Wednesday</td><td>314866.1</td></tr>\n",
       "</tbody>\n",
       "</table>\n"
      ],
      "text/latex": [
       "A tibble: 7 × 2\n",
       "\\begin{tabular}{ll}\n",
       " wday & wdaysum\\\\\n",
       " <chr> & <dbl>\\\\\n",
       "\\hline\n",
       "\t Friday    & 316274.2\\\\\n",
       "\t Monday    & 314674.6\\\\\n",
       "\t Saturday  & 378722.4\\\\\n",
       "\t Sunday    & 435757.8\\\\\n",
       "\t Thursday  & 315223.6\\\\\n",
       "\t Tuesday   & 313612.4\\\\\n",
       "\t Wednesday & 314866.1\\\\\n",
       "\\end{tabular}\n"
      ],
      "text/markdown": [
       "\n",
       "A tibble: 7 × 2\n",
       "\n",
       "| wday &lt;chr&gt; | wdaysum &lt;dbl&gt; |\n",
       "|---|---|\n",
       "| Friday    | 316274.2 |\n",
       "| Monday    | 314674.6 |\n",
       "| Saturday  | 378722.4 |\n",
       "| Sunday    | 435757.8 |\n",
       "| Thursday  | 315223.6 |\n",
       "| Tuesday   | 313612.4 |\n",
       "| Wednesday | 314866.1 |\n",
       "\n"
      ],
      "text/plain": [
       "  wday      wdaysum \n",
       "1 Friday    316274.2\n",
       "2 Monday    314674.6\n",
       "3 Saturday  378722.4\n",
       "4 Sunday    435757.8\n",
       "5 Thursday  315223.6\n",
       "6 Tuesday   313612.4\n",
       "7 Wednesday 314866.1"
      ]
     },
     "metadata": {},
     "output_type": "display_data"
    }
   ],
   "source": [
    "timely_usage %>%\n",
    "    mutate(wday = weekdays(dt)) %>%\n",
    "    group_by(wday) %>% summarise(wdaysum = sum(A, B, C, D, E))"
   ]
  },
  {
   "cell_type": "code",
   "execution_count": 27,
   "metadata": {},
   "outputs": [
    {
     "data": {
      "text/html": [
       "<table>\n",
       "<caption>A tibble: 5 × 2</caption>\n",
       "<thead>\n",
       "\t<tr><th scope=col>name</th><th scope=col>c</th></tr>\n",
       "\t<tr><th scope=col>&lt;chr&gt;</th><th scope=col>&lt;dbl&gt;</th></tr>\n",
       "</thead>\n",
       "<tbody>\n",
       "\t<tr><td>A</td><td> 0.730820745</td></tr>\n",
       "\t<tr><td>B</td><td> 0.080761375</td></tr>\n",
       "\t<tr><td>C</td><td> 0.178267511</td></tr>\n",
       "\t<tr><td>D</td><td>-0.009414051</td></tr>\n",
       "\t<tr><td>E</td><td> 0.170544094</td></tr>\n",
       "</tbody>\n",
       "</table>\n"
      ],
      "text/latex": [
       "A tibble: 5 × 2\n",
       "\\begin{tabular}{ll}\n",
       " name & c\\\\\n",
       " <chr> & <dbl>\\\\\n",
       "\\hline\n",
       "\t A &  0.730820745\\\\\n",
       "\t B &  0.080761375\\\\\n",
       "\t C &  0.178267511\\\\\n",
       "\t D & -0.009414051\\\\\n",
       "\t E &  0.170544094\\\\\n",
       "\\end{tabular}\n"
      ],
      "text/markdown": [
       "\n",
       "A tibble: 5 × 2\n",
       "\n",
       "| name &lt;chr&gt; | c &lt;dbl&gt; |\n",
       "|---|---|\n",
       "| A |  0.730820745 |\n",
       "| B |  0.080761375 |\n",
       "| C |  0.178267511 |\n",
       "| D | -0.009414051 |\n",
       "| E |  0.170544094 |\n",
       "\n"
      ],
      "text/plain": [
       "  name c           \n",
       "1 A     0.730820745\n",
       "2 B     0.080761375\n",
       "3 C     0.178267511\n",
       "4 D    -0.009414051\n",
       "5 E     0.170544094"
      ]
     },
     "metadata": {},
     "output_type": "display_data"
    }
   ],
   "source": [
    "timely_usage %>%\n",
    "    group_by(dt, avg_temp) %>%\n",
    "    summarise_at(vars(LETTERS[1:5]), ~(sum(.))) %>%\n",
    "    pivot_longer(cols=LETTERS[1:5]) %>%\n",
    "    group_by(name) %>%\n",
    "    summarise(c = cor(avg_temp, value))"
   ]
  },
  {
   "cell_type": "markdown",
   "metadata": {},
   "source": [
    "---"
   ]
  },
  {
   "cell_type": "markdown",
   "metadata": {},
   "source": [
    "#### 10. Export Data to Files"
   ]
  },
  {
   "cell_type": "code",
   "execution_count": 28,
   "metadata": {},
   "outputs": [],
   "source": [
    "write_delim(usage, path=\"./data/E15Q21_usage.csv\", delim=\",\")\n",
    "write_delim(weather, path=\"./data/E15Q22_weather.csv\", delim=\",\")\n",
    "write_delim(usage_history, path=\"./data/E15Q23_usage_history.tsv\", delim=\"\\t\")"
   ]
  }
 ],
 "metadata": {
  "kernelspec": {
   "display_name": "R 3.6.3 (Global)",
   "language": "R",
   "name": "ir"
  },
  "language_info": {
   "codemirror_mode": "r",
   "file_extension": ".r",
   "mimetype": "text/x-r-source",
   "name": "R",
   "pygments_lexer": "r",
   "version": "3.6.3"
  }
 },
 "nbformat": 4,
 "nbformat_minor": 4
}
